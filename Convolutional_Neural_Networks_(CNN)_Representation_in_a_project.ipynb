{
  "nbformat": 4,
  "nbformat_minor": 0,
  "metadata": {
    "kernelspec": {
      "display_name": "Python 3",
      "language": "python",
      "name": "python3"
    },
    "language_info": {
      "codemirror_mode": {
        "name": "ipython",
        "version": 3
      },
      "file_extension": ".py",
      "mimetype": "text/x-python",
      "name": "python",
      "nbconvert_exporter": "python",
      "pygments_lexer": "ipython3",
      "version": "3.7.6"
    },
    "colab": {
      "name": "Convolutional_Neural_Networks_(CNN)_Representation_in_a_project.ipynb",
      "provenance": [],
      "collapsed_sections": [],
      "include_colab_link": true
    },
    "accelerator": "GPU"
  },
  "cells": [
    {
      "cell_type": "markdown",
      "metadata": {
        "id": "view-in-github",
        "colab_type": "text"
      },
      "source": [
        "<a href=\"https://colab.research.google.com/github/Jacques-ds-ggg/deep-learning-projects/blob/main/Convolutional_Neural_Networks_(CNN)_Representation_in_a_project.ipynb\" target=\"_parent\"><img src=\"https://colab.research.google.com/assets/colab-badge.svg\" alt=\"Open In Colab\"/></a>"
      ]
    },
    {
      "cell_type": "markdown",
      "metadata": {
        "id": "wJL6sl7TRw-8"
      },
      "source": [
        "# Project : Recognizing hardwritten digits\n",
        "_by JacquesDS_\n",
        "\n",
        "In the project at hand, discovering the MNIST handwritten digit recognition problem with the development of a deep learning model in Python using the Keras library, in order to achieve excellent results.\n",
        "\n",
        "> **Why deep learning ?** \n",
        "- Deep Learning is a subfield of machine learning concerned with algorithms inspired by the structure and function of the brain called artificial neural networks.\n",
        "\n",
        "> **Why use keras ?**\n",
        "- Keras is one of the best neural network Frameworks currently around.\n",
        "\n",
        "> **What is the MNIST handwritten digit recognition problem ?**\n",
        "- The MNIST problem is a dataset developed by Yann LeCun, Corinna Cortes and Christopher Burges for evaluating machine learning models on the handwritten digit classification problem.The dataset was constructed from a number of scanned document dataset available from the National Institute of Standards and Technology (NIST). This is where the name for the dataset comes from, as the Modified NIST or MNIST dataset. Images of digits were taken from a variety of scanned documents, normalized in size and centered. This makes it an excellent dataset for evaluating models, allowing the developer to focus on the machine learning with very little data cleaning or preparation required. In this tutorial, we’ll give you a step by step walk-through of how to build a hand-written digit classifier using the MNIST dataset. For someone new to deep learning, this exercise is arguably the “Hello World” equivalent. It consists of 70,000 labeled 28x28 pixel grayscale images of hand-written digits. The dataset is split into 60,000 training images and 10,000 test images. There are 10 classes (one for each of the 10 digits). The task at hand is to train a model using the 60,000 training images and subsequently test its classification accuracy on the 10,000 test images.\n"
      ]
    },
    {
      "cell_type": "code",
      "metadata": {
        "id": "_K41Eih1Rw--"
      },
      "source": [
        "import numpy as np                                            # import numpy to generate random numbers\n",
        "\n",
        "np.random.seed(10)                                            # for reproducibility"
      ],
      "execution_count": 1,
      "outputs": []
    },
    {
      "cell_type": "markdown",
      "metadata": {
        "id": "XoHp3ROlRw-_"
      },
      "source": [
        "## Exploring the Data\n",
        "\n",
        "#### Load image data from MNIST."
      ]
    },
    {
      "cell_type": "code",
      "metadata": {
        "colab": {
          "base_uri": "https://localhost:8080/"
        },
        "id": "kE5fn-73Rw-_",
        "outputId": "c9799a15-5ada-4966-e284-5282038186b2"
      },
      "source": [
        "from keras.datasets import mnist                              # import keras to obtain the dataset within the library\n",
        "(X_train, y_train), (X_test, y_test) = mnist.load_data()      # load_data for splitting data to test & train datasets\n",
        "\n",
        "print('There are %d training images.' % len(X_train))         # Display the test & train datasets lenth\n",
        "print('There are %d testing images.' % len(X_test))\n",
        "print('There are %d testing images.' % len(y_train))\n",
        "print('There are %d testing images.' % len(y_test))"
      ],
      "execution_count": 2,
      "outputs": [
        {
          "output_type": "stream",
          "text": [
            "Downloading data from https://storage.googleapis.com/tensorflow/tf-keras-datasets/mnist.npz\n",
            "11493376/11490434 [==============================] - 0s 0us/step\n",
            "There are 60000 training images.\n",
            "There are 10000 testing images.\n",
            "There are 60000 testing images.\n",
            "There are 10000 testing images.\n"
          ],
          "name": "stdout"
        }
      ]
    },
    {
      "cell_type": "code",
      "metadata": {
        "colab": {
          "base_uri": "https://localhost:8080/",
          "height": 266
        },
        "id": "0QNfcm1pRw_A",
        "outputId": "15046d71-6582-4d47-9919-630ac5712272"
      },
      "source": [
        "import matplotlib.pyplot as plt                               # import matplotlib for Charts\n",
        "\n",
        "plt.subplot(231)                                              # plot some random images in (RGB) as well as gray scale format\n",
        "plt.imshow(X_train[13])\n",
        "plt.subplot(232)\n",
        "plt.imshow(X_train[55])\n",
        "plt.subplot(233)\n",
        "plt.imshow(X_train[546])\n",
        "plt.subplot(234)\n",
        "plt.imshow(X_train[489], cmap=plt.get_cmap('gray'))           \n",
        "plt.subplot(235)\n",
        "plt.imshow(X_train[30023], cmap=plt.get_cmap('gray'))\n",
        "plt.subplot(236)\n",
        "plt.imshow(X_train[24670], cmap=plt.get_cmap('gray'))\n",
        "plt.show()                                                     # show the plot"
      ],
      "execution_count": 3,
      "outputs": [
        {
          "output_type": "display_data",
          "data": {
            "image/png": "[encoded data removed]",
            "text/plain": [
              "<Figure size 432x288 with 6 Axes>"
            ]
          },
          "metadata": {
            "tags": [],
            "needs_background": "light"
          }
        }
      ]
    },
    {
      "cell_type": "code",
      "metadata": {
        "colab": {
          "base_uri": "https://localhost:8080/"
        },
        "id": "NuBV9eDBSuVp",
        "outputId": "5d3750d0-150e-47e1-9828-e4e6fa5f9d09"
      },
      "source": [
        "print ('Shape of training dataset:')                          # printing shape of training dataset\n",
        "print (X_train.shape)\n",
        "print ('Shape of testing dataset:')                           # printing shape of testing dataset\n",
        "print (X_test.shape)                                          # Shape required to determine hat type of preprocessing on the dimentions needs to be done"
      ],
      "execution_count": 4,
      "outputs": [
        {
          "output_type": "stream",
          "text": [
            "Shape of training dataset:\n",
            "(60000, 28, 28)\n",
            "Shape of testing dataset:\n",
            "(10000, 28, 28)\n"
          ],
          "name": "stdout"
        }
      ]
    },
    {
      "cell_type": "markdown",
      "metadata": {
        "id": "nRwbaIhiTlXm"
      },
      "source": [
        "## **Preprocessing Data**\n",
        "\n",
        "### Reshaping Dimesions\n",
        "Now we will preprocess the inputs for keras. Our input is structured as a 3d array in the form of (60000, 28, 28), this means the height and depth of image is 28x28 and 60000 is number of images in the dataset. But input in keras requires 4d array. We must add a dimension for the depth of image. A full-color image with all 3 RGB channels will have a depth of 3, but MNIST images only have a depth of 1 and we can add this dimension easily using the **reshape()** function on the NumPy array."
      ]
    },
    {
      "cell_type": "code",
      "metadata": {
        "colab": {
          "base_uri": "https://localhost:8080/"
        },
        "id": "0XsnBt-zTd_1",
        "outputId": "b5659660-c6c8-4021-fe5a-12c6211a59f8"
      },
      "source": [
        "X_train = X_train.reshape(X_train.shape[0], 1, 28, 28)        # Reshape input data\n",
        "X_test = X_test.reshape(X_test.shape[0], 1, 28, 28)\n",
        "print('Dimensions after reshaping:')                          # Printing the new dimensions\n",
        "print(X_train.shape)"
      ],
      "execution_count": 5,
      "outputs": [
        {
          "output_type": "stream",
          "text": [
            "Dimensions after reshaping:\n",
            "(60000, 1, 28, 28)\n"
          ],
          "name": "stdout"
        }
      ]
    },
    {
      "cell_type": "markdown",
      "metadata": {
        "id": "lxZclpNzUOWS"
      },
      "source": [
        "### Normalize the Pixel values\n",
        "Each of the pixels that represents an image stored inside a computer has a pixel value which describes how bright that pixel is, and/or what color it should be. In the simplest case of binary images, the pixel value is a 1-bit number indicating either foreground or background. For a grayscale images, the pixel value is a single number that represents the brightness of the pixel. The most common  pixel format is the byte image, where this number is stored as an 8-bit integer giving a range of possible values from 0 to 255. Typically zero is taken to be black, and 255 is taken to be white. Values in between make up the different shades of gray. It is almost always a good idea to perform some scaling of input values when using neural network models. Because the scale is well known and well behaved, we can very quickly normalize the pixel values to the range 0 and 1 by dividing each value by the maximum of 255 and this will normalize our data values to the range [0, 1]."
      ]
    },
    {
      "cell_type": "code",
      "metadata": {
        "id": "9Tv8L2b3T9zT"
      },
      "source": [
        "X_train = X_train.astype('float32')                           # convert data type to float32\n",
        "X_test = X_test.astype('float32')\n",
        "X_train = X_train/255                                         # Normalizing pixel values\n",
        "X_test = X_test/255"
      ],
      "execution_count": 6,
      "outputs": []
    },
    {
      "cell_type": "markdown",
      "metadata": {
        "id": "p6MjYMziUgzb"
      },
      "source": [
        "### Preprocess class labels for Keras\n",
        "This is a multi-class classification problem. The output variable is an integer from 0 to 9. Currently our labels is an array containing 10 classes and we need the labels to be in 10 distinct classes. We can fix this easily by using one hot encoding. There is a built-in **np_utils.to_categorical()** helper function in Keras."
      ]
    },
    {
      "cell_type": "code",
      "metadata": {
        "id": "DieQ_jA-Uc7s"
      },
      "source": [
        "from keras.utils import np_utils                              # import the library needed for one hot encoding\n",
        "Y_train = np_utils.to_categorical(y_train, 10)                # One Hot Encode labels\n",
        "Y_test = np_utils.to_categorical(y_test, 10)"
      ],
      "execution_count": 7,
      "outputs": []
    },
    {
      "cell_type": "markdown",
      "metadata": {
        "id": "FxIn4OiOUtPX"
      },
      "source": [
        "## **Define model architecture**\n",
        "\n",
        "The Keras layers module provides a high-level API that makes it easy to construct a neural network. It provides methods that facilitate the creation of dense (fully connected) layers and convolutional layers, adding activation functions, and applying dropout regularization. Here, we will learn how to use layers to build a convolutional neural network model to recognize the handwritten digits in the MNIST data set.\n",
        "### **About CNN**\n",
        "Convolutional neural networks (CNNs) are the current state-of-the-art model architecture for image classification tasks. CNNs apply a series of filters to the raw pixel data of an image to extract and learn higher-level features, which the model can then use for classification. Our aim of introducing more and more layers is increasing the depth of image and decreasing the height and depth of the image. More the depth, more patterns the model will learn within the image. "
      ]
    },
    {
      "cell_type": "code",
      "metadata": {
        "id": "CYk6DHeaUqhS",
        "colab": {
          "base_uri": "https://localhost:8080/"
        },
        "outputId": "69a34003-d9d1-49d4-db58-eca57b3d5318"
      },
      "source": [
        "from keras.models import Sequential                                                                     # import necessary libraries for defining model architecture\n",
        "from keras.layers import Dense\n",
        "from keras.layers import Dropout\n",
        "from keras.layers import Flatten\n",
        "from keras.layers.convolutional import Convolution2D\n",
        "from keras.layers.convolutional import MaxPooling2D\n",
        "from keras import backend as K\n",
        "K.set_image_data_format('channels_first')\n",
        "\n",
        "model = Sequential()                                                                                    # Define model architecture\n",
        " \n",
        "model.add(Convolution2D(filters = 32, kernel_size = 3, activation='relu', input_shape=(1,28,28)))\n",
        "model.add(MaxPooling2D(pool_size=(2,2)))\n",
        "model.add(Convolution2D(filters = 64, kernel_size = 3, activation='relu'))\n",
        "model.add(MaxPooling2D(pool_size=(2,2)))\n",
        "model.add(Dropout(0.4))\n",
        "model.add(Flatten())\n",
        "model.add(Dense(128, activation='relu'))\n",
        "model.add(Dropout(0.5))\n",
        "model.add(Dense(10, activation='softmax'))\n",
        "\n",
        "model.summary()"
      ],
      "execution_count": 8,
      "outputs": [
        {
          "output_type": "stream",
          "text": [
            "Model: \"sequential\"\n",
            "_________________________________________________________________\n",
            "Layer (type)                 Output Shape              Param #   \n",
            "=================================================================\n",
            "conv2d (Conv2D)              (None, 32, 26, 26)        320       \n",
            "_________________________________________________________________\n",
            "max_pooling2d (MaxPooling2D) (None, 32, 13, 13)        0         \n",
            "_________________________________________________________________\n",
            "conv2d_1 (Conv2D)            (None, 64, 11, 11)        18496     \n",
            "_________________________________________________________________\n",
            "max_pooling2d_1 (MaxPooling2 (None, 64, 5, 5)          0         \n",
            "_________________________________________________________________\n",
            "dropout (Dropout)            (None, 64, 5, 5)          0         \n",
            "_________________________________________________________________\n",
            "flatten (Flatten)            (None, 1600)              0         \n",
            "_________________________________________________________________\n",
            "dense (Dense)                (None, 128)               204928    \n",
            "_________________________________________________________________\n",
            "dropout_1 (Dropout)          (None, 128)               0         \n",
            "_________________________________________________________________\n",
            "dense_1 (Dense)              (None, 10)                1290      \n",
            "=================================================================\n",
            "Total params: 225,034\n",
            "Trainable params: 225,034\n",
            "Non-trainable params: 0\n",
            "_________________________________________________________________\n"
          ],
          "name": "stdout"
        }
      ]
    },
    {
      "cell_type": "markdown",
      "metadata": {
        "id": "pn7Io-HIVCgN"
      },
      "source": [
        "## Compile and Fit the Model"
      ]
    },
    {
      "cell_type": "code",
      "metadata": {
        "id": "Ym4Fh6h0VAHJ",
        "colab": {
          "base_uri": "https://localhost:8080/"
        },
        "outputId": "6e4e6b56-6a23-48b0-d9df-3f42196b3846"
      },
      "source": [
        "model.compile(loss='categorical_crossentropy',optimizer='adam',metrics=['accuracy'])        # Compile model\n",
        "model.fit(X_train, Y_train, batch_size=200, epochs=2, verbose=1)                            # Fit model on training data"
      ],
      "execution_count": 9,
      "outputs": [
        {
          "output_type": "stream",
          "text": [
            "Epoch 1/2\n",
            "300/300 [==============================] - 33s 11ms/step - loss: 0.7827 - accuracy: 0.7416\n",
            "Epoch 2/2\n",
            "300/300 [==============================] - 3s 11ms/step - loss: 0.1291 - accuracy: 0.9615\n"
          ],
          "name": "stdout"
        },
        {
          "output_type": "execute_result",
          "data": {
            "text/plain": [
              "<tensorflow.python.keras.callbacks.History at 0x7fd9d08151d0>"
            ]
          },
          "metadata": {
            "tags": []
          },
          "execution_count": 9
        }
      ]
    },
    {
      "cell_type": "markdown",
      "metadata": {
        "id": "Hgc2RhjVVHHQ"
      },
      "source": [
        "## Evaluate model on test data"
      ]
    },
    {
      "cell_type": "code",
      "metadata": {
        "id": "Mw_A2jBrVJg5",
        "colab": {
          "base_uri": "https://localhost:8080/"
        },
        "outputId": "bdaaf524-6a44-4677-d21f-d5df109cba03"
      },
      "source": [
        "from keras.layers import UpSampling2D\n",
        "\n",
        "score = model.evaluate(X_test, Y_test, verbose=0)                                           # Evaluate model on test data\n",
        "print ('The error rate and Accuracy on test set is as follows : ')\n",
        "print (score)\n",
        "print(UpSampling2D(size=(2, 2), data_format=None))"
      ],
      "execution_count": 11,
      "outputs": [
        {
          "output_type": "stream",
          "text": [
            "The error rate and Accuracy on test set is as follows : \n",
            "[0.04678431525826454, 0.9857000112533569]\n",
            "<tensorflow.python.keras.layers.convolutional.UpSampling2D object at 0x7fd9c03f2410>\n"
          ],
          "name": "stdout"
        }
      ]
    },
    {
      "cell_type": "code",
      "metadata": {
        "id": "0Iwd7xVUkPTn"
      },
      "source": [
        ""
      ],
      "execution_count": null,
      "outputs": []
    }
  ]
}